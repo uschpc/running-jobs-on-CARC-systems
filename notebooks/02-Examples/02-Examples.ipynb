{
 "cells": [
  {
   "cell_type": "markdown",
   "metadata": {},
   "source": [
    "# Examples"
   ]
  },
  {
   "cell_type": "markdown",
   "metadata": {},
   "source": [
    "### A quick prep:"
   ]
  },
  {
   "cell_type": "code",
   "execution_count": null,
   "metadata": {},
   "outputs": [],
   "source": [
    "%env PATH=/apps/utilities:/usr/local/bin:/bin:/usr/bin:/usr/local/sbin:/usr/sbin"
   ]
  },
  {
   "cell_type": "markdown",
   "metadata": {},
   "source": [
    "## A job example utilizing slurm variables:"
   ]
  },
  {
   "cell_type": "code",
   "execution_count": null,
   "metadata": {},
   "outputs": [],
   "source": [
    "sample_var_job=\"\"\"#!/bin/bash\n",
    "#SBATCH --nodes 1\n",
    "#SBATCH --ntasks 1\n",
    "#SBATCH --partition debug\n",
    "#SBATCH --time=00:05:00\n",
    "#SBATCH --chdir /home1/${USER}/running-jobs-on-CARC-systems\n",
    "#SBATCH --account=<account_id>\n",
    "module purge\n",
    "module load usc\n",
    "echo \"Job ID: $SLURM_JOB_ID\"\n",
    "echo \"Nodelist: $SLURM_JOB_NODELIST\"\n",
    "cd $SLURM_SUBMIT_DIR\n",
    "echo `pwd`\n",
    "\"\"\"\n",
    "with open('../../jobs/sample_var_job.sh', 'w') as fp:\n",
    "    fp.write(sample_var_job)"
   ]
  },
  {
   "cell_type": "markdown",
   "metadata": {},
   "source": [
    "Submit with:"
   ]
  },
  {
   "cell_type": "code",
   "execution_count": null,
   "metadata": {},
   "outputs": [],
   "source": [
    "!sbatch ../../jobs/sample_var_job.sh"
   ]
  },
  {
   "cell_type": "markdown",
   "metadata": {},
   "source": [
    "Check progress:"
   ]
  },
  {
   "cell_type": "code",
   "execution_count": null,
   "metadata": {},
   "outputs": [],
   "source": [
    "!squeue --me"
   ]
  },
  {
   "cell_type": "markdown",
   "metadata": {},
   "source": [
    "## A job example utilizing some of CARC resources (NCBI's Genbank BLAST DB):"
   ]
  },
  {
   "cell_type": "markdown",
   "metadata": {},
   "source": [
    "Prep:"
   ]
  },
  {
   "cell_type": "code",
   "execution_count": null,
   "metadata": {},
   "outputs": [],
   "source": [
    "!mkdir ../../results/blast"
   ]
  },
  {
   "cell_type": "code",
   "execution_count": null,
   "metadata": {},
   "outputs": [],
   "source": [
    "sample_blast=\"\"\"#!/bin/bash\n",
    "#SBATCH --nodes 1\n",
    "#SBATCH --ntasks 10\n",
    "#SBATCH --partition debug\n",
    "#SBATCH --time=00:05:00\n",
    "#SBATCH --chdir /home1/${USER}/running-jobs-on-CARC-systems\n",
    "#SBATCH --account=<account_id>\n",
    "module purge\n",
    "module load usc\n",
    "module load blast-plus\n",
    "mkdir -p results/blast\n",
    "echo \"Example blast start\"\n",
    "sleep 20\n",
    "blastp -db /project/biodb/genbank/2024-03-01/swissprot -query data/blast/query.txt -out results/blast/results.txt -num_threads $SLURM_NTASKS\n",
    "echo \"Example blast end\"\n",
    "\"\"\"\n",
    "with open('../../jobs/sample_blast.sh', 'w') as fp:\n",
    "    fp.write(sample_blast)"
   ]
  },
  {
   "cell_type": "markdown",
   "metadata": {},
   "source": [
    "Submit with:"
   ]
  },
  {
   "cell_type": "code",
   "execution_count": null,
   "metadata": {},
   "outputs": [],
   "source": [
    "!sbatch ../../jobs/sample_blast.sh"
   ]
  },
  {
   "cell_type": "markdown",
   "metadata": {},
   "source": [
    "Check progress:"
   ]
  },
  {
   "cell_type": "code",
   "execution_count": null,
   "metadata": {},
   "outputs": [],
   "source": [
    "!squeue --me"
   ]
  },
  {
   "cell_type": "markdown",
   "metadata": {},
   "source": [
    "## (Optional) A job utilizing the MPI interface:\n",
    "### Prepare the mpi program"
   ]
  },
  {
   "cell_type": "code",
   "execution_count": null,
   "metadata": {},
   "outputs": [],
   "source": [
    "mkdir -p ../../data/mpi_sample"
   ]
  },
  {
   "cell_type": "markdown",
   "metadata": {},
   "source": [
    "Write down a simple mpi program, create a Makefile and compile the program"
   ]
  },
  {
   "cell_type": "code",
   "execution_count": null,
   "metadata": {},
   "outputs": [],
   "source": [
    "mpi_hello_world=\"\"\"// Author: Wes Kendall\n",
    "// Copyright 2011 www.mpitutorial.com\n",
    "// This code is provided freely with the tutorials on mpitutorial.com. Feel\n",
    "// free to modify it for your own use. Any distribution of the code must\n",
    "// either provide a link to www.mpitutorial.com or keep this header intact.\n",
    "//\n",
    "// An intro MPI hello world program that uses MPI_Init, MPI_Comm_size,\n",
    "// MPI_Comm_rank, MPI_Finalize, and MPI_Get_processor_name.\n",
    "//\n",
    "#include <mpi.h>\n",
    "#include <stdio.h>\n",
    "\n",
    "int main(int argc, char** argv) {\n",
    "  // Initialize the MPI environment. The two arguments to MPI Init are not\n",
    "  // currently used by MPI implementations, but are there in case future\n",
    "  // implementations might need the arguments.\n",
    "  MPI_Init(NULL, NULL);\n",
    "\n",
    "  // Get the number of processes\n",
    "  int world_size;\n",
    "  MPI_Comm_size(MPI_COMM_WORLD, &world_size);\n",
    "\n",
    "  // Get the rank of the process\n",
    "  int world_rank;\n",
    "  MPI_Comm_rank(MPI_COMM_WORLD, &world_rank);\n",
    "\n",
    "  // Get the name of the processor\n",
    "  char processor_name[MPI_MAX_PROCESSOR_NAME];\n",
    "  int name_len;\n",
    "  MPI_Get_processor_name(processor_name, &name_len);\n",
    "\n",
    "  // Print off a hello world message\n",
    "  printf(\"Hello world from processor %s, rank %d out of %d processors\\\\n\",\n",
    "         processor_name, world_rank, world_size);\n",
    "\n",
    "  // Finalize the MPI environment. No more MPI calls can be made after this\n",
    "  MPI_Finalize();\n",
    "}\"\"\"\n",
    "with open('../../data/mpi_sample/mpi_hello_world.c', 'w') as fp:\n",
    "    fp.write(mpi_hello_world)\n",
    "\n",
    "makefile=\"\"\"EXECS=mpi_hello_world\n",
    "MPICC?=mpicc\n",
    "\n",
    "all: ${EXECS}\n",
    "\n",
    "mpi_hello_world: mpi_hello_world.c\n",
    "\t${MPICC} -o mpi_hello_world mpi_hello_world.c\n",
    "\n",
    "clean:\n",
    "\trm -f ${EXECS}\n",
    "\"\"\"\n",
    "with open('../../data/mpi_sample/Makefile', 'w') as fp:\n",
    "    fp.write(makefile)"
   ]
  },
  {
   "cell_type": "code",
   "execution_count": null,
   "metadata": {},
   "outputs": [],
   "source": [
    "!cd ../../data/mpi_sample && module load usc && make && cd ../../notebooks/02-Examples"
   ]
  },
  {
   "cell_type": "markdown",
   "metadata": {},
   "source": [
    "Create a job script and submit it"
   ]
  },
  {
   "cell_type": "code",
   "execution_count": null,
   "metadata": {},
   "outputs": [],
   "source": [
    "sample_mpi_job=\"\"\"#!/bin/bash\n",
    "#SBATCH --nodes=3\n",
    "#SBATCH --ntasks=9\n",
    "#SBATCH --partition=main\n",
    "#SBATCH --time=00:05:00\n",
    "#SBATCH --mem=2g\n",
    "#SBATCH --chdir /home1/${USER}/running-jobs-on-CARC-systems\n",
    "#SBATCH --account=<account_id>\n",
    "\n",
    "module purge\n",
    "module load usc\n",
    "\n",
    "srun --mpi=pmix_v2 --ntasks $SLURM_NTASKS data/mpi_sample/mpi_hello_world\n",
    "\"\"\"\n",
    "with open('../../jobs/sample_mpi_job.sh', 'w') as fp:\n",
    "    fp.write(sample_mpi_job)"
   ]
  },
  {
   "cell_type": "code",
   "execution_count": null,
   "metadata": {},
   "outputs": [],
   "source": [
    "!sbatch ../../jobs/sample_mpi_job.sh"
   ]
  },
  {
   "cell_type": "markdown",
   "metadata": {},
   "source": [
    "Check progress:"
   ]
  },
  {
   "cell_type": "code",
   "execution_count": null,
   "metadata": {},
   "outputs": [],
   "source": [
    "!squeue --me"
   ]
  },
  {
   "cell_type": "markdown",
   "metadata": {},
   "source": [
    "# What's next?\n",
    "Troubleshooting in `03-Arrays`"
   ]
  }
 ],
 "metadata": {
  "kernelspec": {
   "display_name": "Python 3 (ipykernel)",
   "language": "python",
   "name": "python3"
  },
  "language_info": {
   "codemirror_mode": {
    "name": "ipython",
    "version": 3
   },
   "file_extension": ".py",
   "mimetype": "text/x-python",
   "name": "python",
   "nbconvert_exporter": "python",
   "pygments_lexer": "ipython3",
   "version": "3.12.2"
  }
 },
 "nbformat": 4,
 "nbformat_minor": 4
}
