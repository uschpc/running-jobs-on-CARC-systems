{
 "cells": [
  {
   "cell_type": "markdown",
   "metadata": {},
   "source": [
    "# Troubleshooting"
   ]
  },
  {
   "cell_type": "markdown",
   "metadata": {},
   "source": [
    "## What is wrong 1"
   ]
  },
  {
   "cell_type": "raw",
   "metadata": {},
   "source": [
    "#!/bin/bash\n",
    "# ----------------SLURM Parameters----------------\n",
    "#SBATCH --partition main\n",
    "#SBATCH --ntasks 1\n",
    "#SBATCH --mem=1g\n",
    "#SBATCH --nodes 1\n",
    "#SBATCH --chdir /home1/ttrojan/running-jobs-on-CARC-systems\n",
    "#SBATCH --account=<account_id>\n",
    "# ----------------Load Modules--------------------\n",
    "# ----------------Commands------------------------\n",
    "python3 /home1/ttrojan/script.py"
   ]
  },
  {
   "cell_type": "markdown",
   "metadata": {},
   "source": [
    "### Solution\n",
    "\n",
    "Click on the '...' below to see the solution."
   ]
  },
  {
   "cell_type": "raw",
   "metadata": {
    "jupyter": {
     "source_hidden": true
    }
   },
   "source": [
    "#SOLUTION#!\n",
    "/bin/bash\n",
    "# ----------------SLURM Parameters----------------\n",
    "#SBATCH --partition main\n",
    "#SBATCH --ntasks 1\n",
    "#SBATCH --mem=1g\n",
    "#SBATCH --nodes 1\n",
    "#SBATCH --chdir /home1/ttrojan/running-jobs-on-CARC-systems\n",
    "#SBATCH --account=<account_id>\n",
    "# ----------------Load Modules--------------------\n",
    "module purge\n",
    "module load usc\n",
    "module load python/3.9.12\n",
    "# ----------------Commands------------------------\n",
    "python3 /home1/ttrojan/script.py"
   ]
  },
  {
   "cell_type": "markdown",
   "metadata": {},
   "source": [
    "## What is wrong 2"
   ]
  },
  {
   "cell_type": "raw",
   "metadata": {},
   "source": [
    "#!/bin/bash\n",
    "# ----------------SLURM Parameters----------------\n",
    "#SBATCH --partition main\n",
    "#SBATCH --ntasks 20\n",
    "#SBATCH --mem=10g\n",
    "#SBATCH --nodes 1\n",
    "# ----------------Load Modules--------------------\n",
    "module purge\n",
    "module load usc\n",
    "module load blast-plus\n",
    "# ----------------Commands------------------------\n",
    "blastn -query fasta.file -db database_name -outfmt 6 \\\n",
    "-num_alignments 1 -num_descriptions 1 -out output_file"
   ]
  },
  {
   "cell_type": "markdown",
   "metadata": {},
   "source": [
    "### Solution\n",
    "\n",
    "Click on the '...' below to see the solution."
   ]
  },
  {
   "cell_type": "raw",
   "metadata": {
    "jupyter": {
     "source_hidden": true
    }
   },
   "source": [
    "#SOLUTION!\n",
    "#!/bin/bash\n",
    "# ----------------SLURM Parameters----------------\n",
    "#SBATCH --partition main\n",
    "#SBATCH --ntasks 20\n",
    "#SBATCH --mem=10g\n",
    "#SBATCH --nodes 1\n",
    "#SBATCH --chdir /home1/ttrojan/running-jobs-on-CARC-systems\n",
    "#SBATCH --account=<account_id>\n",
    "# ----------------Load Modules--------------------\n",
    "module purge\n",
    "module load usc\n",
    "module load blast-plus\n",
    "# ----------------Commands------------------------\n",
    "blastn -query fasta.file -db database_name -outfmt 6 num_alignments 1 \\ -num_descriptions 1 -out output_file -num_threads 20"
   ]
  },
  {
   "cell_type": "raw",
   "metadata": {
    "jupyter": {
     "source_hidden": true
    }
   },
   "source": [
    "#Even better SOLUTION!\n",
    "#!/bin/bash\n",
    "# ----------------SLURM Parameters----------------\n",
    "#SBATCH --partition main\n",
    "#SBATCH --ntasks 20\n",
    "#SBATCH --mem=10g\n",
    "#SBATCH --nodes 1\n",
    "#SBATCH --chdir /home1/ttrojan/running-jobs-on-CARC-systems\n",
    "#SBATCH --account=<account_id>\n",
    "# ----------------Load Modules--------------------\n",
    "module purge\n",
    "module load usc\n",
    "module load blast-plus\n",
    "# ----------------Commands------------------------\n",
    "blastn -query fasta.file -db database_name -outfmt 6 num_alignments 1 \\ -num_descriptions 1 -out output_file -num_threads $SLURM_NTASKS"
   ]
  },
  {
   "cell_type": "markdown",
   "metadata": {},
   "source": [
    "## What is wrong 3"
   ]
  },
  {
   "cell_type": "raw",
   "metadata": {},
   "source": [
    "#!/bin/bash\n",
    "# ----------------SLURM Parameters----------------\n",
    "#SBATCH --partition main\n",
    "#SBATCH --ntasks 1\n",
    "#SBATCH --mem=200g\n",
    "#SBATCH --nodes 1\n",
    "#SBATCH --chdir /home1/ttrojan/running-jobs-on-CARC-systems\n",
    "#SBATCH --account=<account_id>\n",
    "# ----------------Load Modules--------------------\n",
    "module purge\n",
    "module load usc\n",
    "module load openblas\n",
    "module load r\n",
    "# ----------------Commands------------------------\n",
    "Rscript /home1/ttrojan/R_example.R"
   ]
  },
  {
   "cell_type": "markdown",
   "metadata": {},
   "source": [
    "### Solution\n",
    "\n",
    "Click on the '...' below to see the solution."
   ]
  },
  {
   "cell_type": "raw",
   "metadata": {
    "jupyter": {
     "source_hidden": true
    }
   },
   "source": [
    "#SOLUTION!\n",
    "#!/bin/bash\n",
    "# ----------------SLURM Parameters----------------\n",
    "#SBATCH --partition epyc-64\n",
    "#SBATCH --ntasks 1\n",
    "#SBATCH --mem=200g\n",
    "#SBATCH --nodes 1\n",
    "#SBATCH --chdir /home1/ttrojan/running-jobs-on-CARC-systems\n",
    "#SBATCH --account=<account_id>\n",
    "# ----------------Load Modules--------------------\n",
    "module purge\n",
    "module load usc\n",
    "module load openblas\n",
    "module load r\n",
    "# ----------------Commands------------------------\n",
    "Rscript /home1/ttrojan/R_example.R"
   ]
  },
  {
   "cell_type": "markdown",
   "metadata": {},
   "source": [
    "## What is wrong 4"
   ]
  },
  {
   "cell_type": "raw",
   "metadata": {},
   "source": [
    "#!/bin/bash\n",
    "# ----------------SLURM Parameters----------------\n",
    "#SBATCH --partition gpu\n",
    "#SBATCH --nodes 1\n",
    "#SBATCH --mem=4g\n",
    "#SBATCH --ntasks 1\n",
    "#SBATCH --chdir /home1/ttrojan/running-jobs-on-CARC-systems\n",
    "# ----------------Load Modules--------------------\n",
    "module purge\n",
    "module load usc\n",
    "module load cuda/11.5.1\n",
    "module load python\n",
    "# ----------------Commands------------------------\n",
    "python3 /home1/ttrojan/my_gpu_accelerated_script.py"
   ]
  },
  {
   "cell_type": "markdown",
   "metadata": {},
   "source": [
    "### Solution\n",
    "\n",
    "Click on the '...' below to see the solution."
   ]
  },
  {
   "cell_type": "raw",
   "metadata": {
    "jupyter": {
     "source_hidden": true
    }
   },
   "source": [
    "#SOLUTION!\n",
    "#!/bin/bash\n",
    "# ----------------SLURM Parameters----------------\n",
    "#SBATCH --partition gpu\n",
    "#SBATCH --nodes 1\n",
    "#SBATCH --mem=4g\n",
    "#SBATCH --ntasks 1\n",
    "#SBATCH --gres=gpu:a100:1\n",
    "#SBATCH --chdir /home1/ttrojan/running-jobs-on-CARC-systems\n",
    "#SBATCH --account=<account_id>\n",
    "# ----------------Load Modules--------------------\n",
    "module purge\n",
    "module load usc\n",
    "module load cuda/11.5.1\n",
    "module load python\n",
    "# ----------------Commands------------------------\n",
    "python3 /home1/ttrojan/my_gpu_accelerated_script.py"
   ]
  },
  {
   "cell_type": "markdown",
   "metadata": {},
   "source": [
    "## What is wrong 5"
   ]
  },
  {
   "cell_type": "raw",
   "metadata": {},
   "source": [
    "# ----------------SLURM Parameters----------------\n",
    "#SBATCH --partition main\n",
    "#SBATCH --ntasks 1\n",
    "#SBATCH --mem=15g\n",
    "#SBATCH --nodes 1\n",
    "#SBATCH --chdir /home1/ttrojan/running-jobs-on-CARC-systems\n",
    "#SBATCH --account=<account_id>\n",
    "# ----------------Load Modules--------------------\n",
    "module purge\n",
    "module load usc\n",
    "module load samtools\n",
    "# ----------------Commands------------------------\n",
    "samtools stats example.bam"
   ]
  },
  {
   "cell_type": "markdown",
   "metadata": {},
   "source": [
    "### Solution\n",
    "\n",
    "Click on the '...' below to see the solution."
   ]
  },
  {
   "cell_type": "raw",
   "metadata": {
    "jupyter": {
     "source_hidden": true
    }
   },
   "source": [
    "#SOLUTION!\n",
    "#!/bin/bash\n",
    "# ----------------SLURM Parameters----------------\n",
    "#SBATCH --partition main\n",
    "#SBATCH --ntasks 1\n",
    "#SBATCH --mem=15g\n",
    "#SBATCH --nodes 1\n",
    "#SBATCH --chdir /home1/ttrojan/running-jobs-on-CARC-systems\n",
    "#SBATCH --account=<account_id>\n",
    "# ----------------Load Modules--------------------\n",
    "module purge\n",
    "module load usc\n",
    "module load samtools\n",
    "# ----------------Commands------------------------\n",
    "samtools stats example.bam"
   ]
  },
  {
   "cell_type": "markdown",
   "metadata": {},
   "source": [
    "## What's Next?\n",
    "\n",
    "The next Notebook is `05-Summary`, which summarizes what we have learned so far.\n",
    " "
   ]
  }
 ],
 "metadata": {
  "kernelspec": {
   "display_name": "Python 3 (ipykernel)",
   "language": "python",
   "name": "python3"
  },
  "language_info": {
   "codemirror_mode": {
    "name": "ipython",
    "version": 3
   },
   "file_extension": ".py",
   "mimetype": "text/x-python",
   "name": "python",
   "nbconvert_exporter": "python",
   "pygments_lexer": "ipython3",
   "version": "3.12.2"
  }
 },
 "nbformat": 4,
 "nbformat_minor": 4
}
