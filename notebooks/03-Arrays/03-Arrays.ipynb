{
 "cells": [
  {
   "cell_type": "markdown",
   "metadata": {},
   "source": [
    "Job Arrays\n",
    "\n",
    "- A way to run the same commands on many (hundreds, thousands) datasets/samples.\n",
    "- A variable called `$SLURM_ARRAY_TASK_ID` determines the element of the array being run.\n",
    "\n",
    "In a submission script arrays are defined with `--array` parameter e.g. `#SBATCH --array=1-1000`\n",
    "Then, in your job, `$SLURM_ARRAY_TASK_ID` becomes 1 in the first job, 2 in the second job, etc., until the last.\n",
    "\n",
    "Modify job or application to use index."
   ]
  },
  {
   "cell_type": "markdown",
   "metadata": {},
   "source": [
    "#### A few quick prep commands:"
   ]
  },
  {
   "cell_type": "code",
   "execution_count": null,
   "metadata": {},
   "outputs": [],
   "source": [
    "!mkdir -p ../../results/fastqc-rawseq-ordered\n",
    "!mkdir -p ../../results/fastqc-rawseq-ordered-arr\n",
    "!mkdir -p ../../results/fastqc-rawseq-unordered"
   ]
  },
  {
   "cell_type": "code",
   "execution_count": null,
   "metadata": {},
   "outputs": [],
   "source": [
    "%env PATH=/spack/utilities:/usr/local/bin:/bin:/usr/bin:/usr/local/sbin:/usr/sbin"
   ]
  },
  {
   "cell_type": "markdown",
   "metadata": {},
   "source": [
    "## Let's take a look at a directory with files that need to be processed:"
   ]
  },
  {
   "cell_type": "code",
   "execution_count": null,
   "metadata": {},
   "outputs": [],
   "source": [
    "!ls -lh ../../data/raw-seq-ordered"
   ]
  },
  {
   "cell_type": "markdown",
   "metadata": {},
   "source": [
    "The files contain the results of some gene sequencing, and we will use the `fastq` command to check the quality control.\n",
    "\n",
    "Our first attempt runs the same command on all files."
   ]
  },
  {
   "cell_type": "code",
   "execution_count": null,
   "metadata": {},
   "outputs": [],
   "source": [
    "fastqc_numbered=\"\"\"#!/bin/bash\n",
    "#SBATCH --nodes 1\n",
    "#SBATCH --ntasks 1\n",
    "#SBATCH --partition debug\n",
    "#SBATCH --time=00:05:00\n",
    "#SBATCH --chdir /home1/ttrojan/running-jobs-on-CARC-systems\n",
    "#SBATCH --account=<account_id>\n",
    "module purge\n",
    "module load usc\n",
    "module load fastqc\n",
    "echo \"Example FastQC start\"\n",
    "fastqc -o results/fastqc-rawseq-ordered data/raw-seq-ordered/yeast_1_50K.fastq\n",
    "fastqc -o results/fastqc-rawseq-ordered data/raw-seq-ordered/yeast_2_50K.fastq\n",
    "fastqc -o results/fastqc-rawseq-ordered data/raw-seq-ordered/yeast_3_50K.fastq\n",
    "fastqc -o results/fastqc-rawseq-ordered data/raw-seq-ordered/yeast_4_50K.fastq\n",
    "fastqc -o results/fastqc-rawseq-ordered data/raw-seq-ordered/yeast_5_50K.fastq\n",
    "fastqc -o results/fastqc-rawseq-ordered data/raw-seq-ordered/yeast_6_50K.fastq\n",
    "echo \"Example FastQC end\"\n",
    "\"\"\"\n",
    "with open('../../jobs/fastqc_numbered.sh', 'w') as fp:\n",
    "    fp.write(fastqc_numbered)"
   ]
  },
  {
   "cell_type": "markdown",
   "metadata": {},
   "source": [
    "Let's submit the job"
   ]
  },
  {
   "cell_type": "code",
   "execution_count": null,
   "metadata": {},
   "outputs": [],
   "source": [
    "!sbatch ../../jobs/fastqc_numbered.sh"
   ]
  },
  {
   "cell_type": "markdown",
   "metadata": {},
   "source": [
    "Now we can check the progress (you can rerun the cell a few times)"
   ]
  },
  {
   "cell_type": "code",
   "execution_count": null,
   "metadata": {},
   "outputs": [],
   "source": [
    "!squeue --me"
   ]
  },
  {
   "cell_type": "markdown",
   "metadata": {},
   "source": [
    "After the job is complete we can inspect it and note the total runtime"
   ]
  },
  {
   "cell_type": "code",
   "execution_count": null,
   "metadata": {},
   "outputs": [],
   "source": [
    "!jobinfo JOBID"
   ]
  },
  {
   "cell_type": "markdown",
   "metadata": {},
   "source": [
    "What if we can run all commands at once? This has the potential to cut down the total run time almost linearly.\n",
    "Let's create a job file with the use of the slurm array"
   ]
  },
  {
   "cell_type": "code",
   "execution_count": null,
   "metadata": {},
   "outputs": [],
   "source": [
    "fastqc_numbered_array=\"\"\"#!/bin/bash\n",
    "#SBATCH --nodes 1\n",
    "#SBATCH --ntasks 1\n",
    "#SBATCH --partition main\n",
    "#SBATCH --time=00:05:00\n",
    "#SBATCH --array=1-6\n",
    "#SBATCH --chdir /home1/ttrojan/running-jobs-on-CARC-systems\n",
    "#SBATCH --account=<account_id>\n",
    "module purge\n",
    "module load usc\n",
    "module load fastqc\n",
    "echo \"Example FastQC start\"\n",
    "fastqc -o results/fastqc-rawseq-ordered-arr data/raw-seq-ordered/yeast_${SLURM_ARRAY_TASK_ID}_50K.fastq\n",
    "echo \"Example FastQC end\"\n",
    "\"\"\"\n",
    "with open('../../jobs/fastqc_numbered_array.sh', 'w') as fp:\n",
    "    fp.write(fastqc_numbered_array)"
   ]
  },
  {
   "cell_type": "markdown",
   "metadata": {},
   "source": [
    "Let's submit the job"
   ]
  },
  {
   "cell_type": "code",
   "execution_count": null,
   "metadata": {},
   "outputs": [],
   "source": [
    "!sbatch ../../jobs/fastqc_numbered_array.sh"
   ]
  },
  {
   "cell_type": "markdown",
   "metadata": {},
   "source": [
    "Now we can check the progress (you can rerun the cell a few times)"
   ]
  },
  {
   "cell_type": "code",
   "execution_count": null,
   "metadata": {},
   "outputs": [],
   "source": [
    "!squeue --me"
   ]
  },
  {
   "cell_type": "markdown",
   "metadata": {},
   "source": [
    "After the job is complete we can inspect it and note the total runtime"
   ]
  },
  {
   "cell_type": "code",
   "execution_count": null,
   "metadata": {},
   "outputs": [],
   "source": [
    "!jobinfo JOBID"
   ]
  },
  {
   "cell_type": "markdown",
   "metadata": {},
   "source": [
    "Was it faster than the serial job you ran previously?\n",
    "\n",
    "What if the input files are not named in a way that allows for the direct use of array ID numbers?\n",
    "We can create a text file with the names of all files we need to use in computations and then extract the correct file names using line numbers and array task IDs.\n",
    "\n",
    "Take a look at the file names"
   ]
  },
  {
   "cell_type": "code",
   "execution_count": null,
   "metadata": {},
   "outputs": [],
   "source": [
    "!ls -lh ../../data/raw-seq"
   ]
  },
  {
   "cell_type": "markdown",
   "metadata": {},
   "source": [
    "The job script will look like this:"
   ]
  },
  {
   "cell_type": "code",
   "execution_count": null,
   "metadata": {},
   "outputs": [],
   "source": [
    "fastqc_unnumbered_array=\"\"\"#!/bin/bash\n",
    "#SBATCH --nodes 1\n",
    "#SBATCH --ntasks 1\n",
    "#SBATCH --partition main\n",
    "#SBATCH --time=00:05:00\n",
    "#SBATCH --array=1-6\n",
    "#SBATCH --chdir /home1/ttrojan/running-jobs-on-CARC-systems\n",
    "#SBATCH --account=<account_id>\n",
    "module purge\n",
    "module load usc\n",
    "module load fastqc\n",
    "echo \"Example FastQC start\"\n",
    "echo \"making list of files\"\n",
    "ls data/raw-seq/ > unnumbered-filenames.txt\n",
    "echo \"preparing the input\"\n",
    "line=$(sed -n -e \"$SLURM_ARRAY_TASK_ID p\" unnumbered-filenames.txt)\n",
    "echo \"running FastQC\"\n",
    "fastqc -o results/fastqc-rawseq-unordered data/raw-seq/${line}\n",
    "echo \"Example FastQC end\"\n",
    "\"\"\"\n",
    "with open('../../jobs/fastqc_unnumbered_array.sh', 'w') as fp:\n",
    "    fp.write(fastqc_unnumbered_array)"
   ]
  },
  {
   "cell_type": "markdown",
   "metadata": {},
   "source": [
    "Submit job"
   ]
  },
  {
   "cell_type": "code",
   "execution_count": null,
   "metadata": {},
   "outputs": [],
   "source": [
    "!sbatch ../../jobs/fastqc_unnumbered_array.sh"
   ]
  },
  {
   "cell_type": "markdown",
   "metadata": {},
   "source": [
    "check the progress"
   ]
  },
  {
   "cell_type": "code",
   "execution_count": null,
   "metadata": {},
   "outputs": [],
   "source": [
    "!squeue --me"
   ]
  },
  {
   "cell_type": "markdown",
   "metadata": {},
   "source": [
    "inspect the job and note the total runtime"
   ]
  },
  {
   "cell_type": "code",
   "execution_count": null,
   "metadata": {},
   "outputs": [],
   "source": [
    "!jobinfo JOBID"
   ]
  },
  {
   "cell_type": "markdown",
   "metadata": {},
   "source": [
    "# What's Next?\n",
    "\n",
    "To continue exploring, please open the notebook in `03-Examples/`"
   ]
  }
 ],
 "metadata": {
  "kernelspec": {
   "display_name": "Python 3 (ipykernel)",
   "language": "python",
   "name": "python3"
  },
  "language_info": {
   "codemirror_mode": {
    "name": "ipython",
    "version": 3
   },
   "file_extension": ".py",
   "mimetype": "text/x-python",
   "name": "python",
   "nbconvert_exporter": "python",
   "pygments_lexer": "ipython3",
   "version": "3.12.2"
  }
 },
 "nbformat": 4,
 "nbformat_minor": 4
}
