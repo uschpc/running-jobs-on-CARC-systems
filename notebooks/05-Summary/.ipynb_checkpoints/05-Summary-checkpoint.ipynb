{
 "cells": [
  {
   "cell_type": "markdown",
   "metadata": {},
   "source": [
    "# Summary\n",
    "\n",
    "## Things to note:\n",
    "#### - Job length\n",
    "    - If over 24 hours, can this be split up? Can threads be increased?\n",
    "      \n",
    "#### - Many small files\n",
    "    - To be avoided!\n",
    "    - Group into larger files\n",
    "      \n",
    "#### - Data\n",
    "    - Save space by removing temp files\n",
    "    - Archive data as soon as reasonable\n",
    "    - Let us know if you are adding several TB of data\n",
    "  \n",
    "#### - Use /scratch1 whenever possible for temporary files\n",
    "  \n",
    "#### - Make sure you are not on the login node when you launch an application\n",
    " \n",
    "    - You can check the system you are on by typing hostname\n",
    "\n",
    "#### - Make sure you reserve as many processors as you need\n",
    "    - A mismatch here can increase your runtime or wait time\n",
    "\n",
    "#### - Make sure you reserve as much RAM as needed\n",
    "    - Overestimating increases wait time, underestimating crashes\n",
    "\n",
    "#### - Know which resources work the best\n",
    "    - Sometimes, using a debug or epyc-64 is better\n",
    "\n",
    "## Resources\n",
    "\n",
    "- [CARC home page](https://carc.usc.edu)\n",
    "- \n",
    "- [CARC User Forum](https://hpc-discourse.usc.edu/categories)\n",
    "- \n",
    "- [SLURM tutorials](https://slurm.schedmd.com/tutorials.html)\n",
    "- \n",
    "- [SLURM quick reference](https://slurm.schedmd.com/pdfs/summary.pdf)\n",
    "\n",
    "## Support\n",
    "\n",
    "- Visit [CARC support page](https://www.carc.usc.edu/user-support) and navigate through our guides\n",
    "\n",
    "- [Submit a ticket](https://www.carc.usc.edu/user-information/ticket-submission)\n",
    "\n",
    "## Office Hours\n",
    "\n",
    "CARC Team holds weekly office hours on Tuesdays. You can find more details [here](https://www.carc.usc.edu/education-and-resources/office-hours/)\n",
    "\n",
    "\n",
    "\n",
    "\n"
   ]
  },
  {
   "cell_type": "code",
   "execution_count": null,
   "metadata": {},
   "outputs": [],
   "source": []
  }
 ],
 "metadata": {
  "kernelspec": {
   "display_name": "Python 3 (ipykernel)",
   "language": "python",
   "name": "python3"
  },
  "language_info": {
   "codemirror_mode": {
    "name": "ipython",
    "version": 3
   },
   "file_extension": ".py",
   "mimetype": "text/x-python",
   "name": "python",
   "nbconvert_exporter": "python",
   "pygments_lexer": "ipython3",
   "version": "3.12.2"
  }
 },
 "nbformat": 4,
 "nbformat_minor": 4
}
